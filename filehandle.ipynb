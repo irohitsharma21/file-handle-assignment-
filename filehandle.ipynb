{
  "nbformat": 4,
  "nbformat_minor": 0,
  "metadata": {
    "colab": {
      "provenance": []
    },
    "kernelspec": {
      "name": "python3",
      "display_name": "Python 3"
    },
    "language_info": {
      "name": "python"
    }
  },
  "cells": [
    {
      "cell_type": "markdown",
      "source": [
        "**ASSIGNMENT FILE HANDLING **"
      ],
      "metadata": {
        "id": "xPv6tzSRn5PJ"
      }
    },
    {
      "cell_type": "code",
      "source": [
        "# 1. What is the difference between interpreted and compiled languages?\n",
        "\n",
        "# Interpreted languages execute code line-by-line, while compiled languages convert the entire code into machine code before execution.\n",
        "# Python is an interpreted language, whereas C and Java are compiled languages.\n"
      ],
      "metadata": {
        "id": "sTCNT14ioTeV"
      },
      "execution_count": 44,
      "outputs": []
    },
    {
      "cell_type": "code",
      "source": [
        "# 2. What is exception handling in Python?\n",
        "\n",
        "# Exception handling in Python is a mechanism to handle runtime errors using try, except, finally, and else blocks.\n",
        "\n",
        "try:\n",
        "    x = 10 / 0\n",
        "except ZeroDivisionError:\n",
        "    print(\"Cannot divide by zero!\")  # Output: Cannot divide by zero!\n"
      ],
      "metadata": {
        "colab": {
          "base_uri": "https://localhost:8080/"
        },
        "id": "cGz2-LXvoVzn",
        "outputId": "2a170408-d06e-4551-d4c4-2cf731d81f11"
      },
      "execution_count": 33,
      "outputs": [
        {
          "output_type": "stream",
          "name": "stdout",
          "text": [
            "Cannot divide by zero!\n"
          ]
        }
      ]
    },
    {
      "cell_type": "code",
      "source": [
        "# 3. What is the purpose of the finally block in exception handling?\n",
        "\n",
        "# The finally block executes code regardless of whether an exception occurs or not.\n",
        "\n",
        "try:\n",
        "    f = open(\"file.txt\", \"r\")\n",
        "finally:\n",
        "    f.close()  # Ensures the file is closed\n"
      ],
      "metadata": {
        "id": "bbIfy-fVoVwV"
      },
      "execution_count": 34,
      "outputs": []
    },
    {
      "cell_type": "code",
      "source": [
        "# 4. What is logging in Python?\n",
        "\n",
        "# Logging is used to record events that occur during program execution, useful for debugging and tracking.\n",
        "\n",
        "import logging\n",
        "logging.basicConfig(level=logging.INFO)\n",
        "logging.info(\"This is an info message.\")\n"
      ],
      "metadata": {
        "id": "hrkYSQt6oVsc"
      },
      "execution_count": 35,
      "outputs": []
    },
    {
      "cell_type": "code",
      "source": [
        "# 5. What is the significance of the __del__ method in Python?\n",
        "\n",
        "# The __del__ method is a destructor that is called when an object is deleted.\n",
        "\n",
        "class Test:\n",
        "    def __del__(self):\n",
        "        print(\"Object is being deleted.\")\n",
        "\n",
        "obj = Test()\n",
        "del obj  # Output: Object is being deleted.\n"
      ],
      "metadata": {
        "colab": {
          "base_uri": "https://localhost:8080/"
        },
        "id": "tJSa2E_FoVoN",
        "outputId": "62023e83-fe99-4651-c5c0-06cf4a969b5f"
      },
      "execution_count": 36,
      "outputs": [
        {
          "output_type": "stream",
          "name": "stdout",
          "text": [
            "Object is being deleted.\n"
          ]
        }
      ]
    },
    {
      "cell_type": "code",
      "source": [
        "# 6. What is the difference between import and from ... import in Python?\n",
        "\n",
        "# import: Imports the whole module.\n",
        "# from ... import: Imports specific functions/classes from a module.\n",
        "\n",
        "import math\n",
        "print(math.sqrt(16))  # 4.0\n",
        "\n",
        "from math import sqrt\n",
        "print(sqrt(16))  # 4.0\n"
      ],
      "metadata": {
        "colab": {
          "base_uri": "https://localhost:8080/"
        },
        "id": "K3To42dJoVkT",
        "outputId": "a50b06c5-0147-4ffe-a3f2-763d85d8042f"
      },
      "execution_count": 37,
      "outputs": [
        {
          "output_type": "stream",
          "name": "stdout",
          "text": [
            "4.0\n",
            "4.0\n"
          ]
        }
      ]
    },
    {
      "cell_type": "code",
      "source": [
        "# 7. How can you handle multiple exceptions in Python?\n",
        "\n",
        "try:\n",
        "    x = int(\"abc\")\n",
        "except (ValueError, ZeroDivisionError) as e:\n",
        "    print(\"Exception occurred:\", e)\n"
      ],
      "metadata": {
        "colab": {
          "base_uri": "https://localhost:8080/"
        },
        "id": "BodqXnTHoVgn",
        "outputId": "0a293c27-4e72-49a1-fbaa-bc5e26a75196"
      },
      "execution_count": 38,
      "outputs": [
        {
          "output_type": "stream",
          "name": "stdout",
          "text": [
            "Exception occurred: invalid literal for int() with base 10: 'abc'\n"
          ]
        }
      ]
    },
    {
      "cell_type": "code",
      "source": [
        "# 8. What is the purpose of the with statement when handling files in Python?\n",
        "\n",
        "# The with statement ensures proper resource management and automatically closes files.\n",
        "\n",
        "with open(\"file.txt\", \"r\") as file:\n",
        "    data = file.read()\n"
      ],
      "metadata": {
        "id": "cFcyZ09hoVcw"
      },
      "execution_count": 39,
      "outputs": []
    },
    {
      "cell_type": "code",
      "source": [
        "# 9. What is the difference between multithreading and multiprocessing?\n",
        "\n",
        "# Multithreading: Multiple threads in the same process (shared memory).\n",
        "# Multiprocessing: Multiple processes with separate memory spaces.\n"
      ],
      "metadata": {
        "id": "VVoMqQWCoVYi"
      },
      "execution_count": null,
      "outputs": []
    },
    {
      "cell_type": "code",
      "source": [
        "# 10. What are the advantages of using logging in a program?\n",
        "\n",
        "# 1. Helps in debugging\n",
        "# 2. Tracks events and errors\n",
        "# 3. Maintains records for future analysis\n"
      ],
      "metadata": {
        "id": "4GEH6ITvoVUv"
      },
      "execution_count": null,
      "outputs": []
    },
    {
      "cell_type": "code",
      "source": [
        "# 11. What is memory management in Python?\n",
        "\n",
        "# Python uses automatic memory management with garbage collection.\n"
      ],
      "metadata": {
        "id": "DQqHwrthoVQn"
      },
      "execution_count": null,
      "outputs": []
    },
    {
      "cell_type": "code",
      "source": [
        "# 12. What are the basic steps involved in exception handling in Python?\n",
        "\n",
        "# 1. Use try block to write risky code.\n",
        "# 2. Use except block to handle exceptions.\n",
        "# 3. Use finally block for cleanup.\n"
      ],
      "metadata": {
        "id": "6E-TMrvPoVMm"
      },
      "execution_count": null,
      "outputs": []
    },
    {
      "cell_type": "code",
      "source": [
        "# 13. Why is memory management important in Python?\n",
        "\n",
        "# It prevents memory leaks and optimizes performance.\n"
      ],
      "metadata": {
        "id": "MKCI9qtuoVJD"
      },
      "execution_count": null,
      "outputs": []
    },
    {
      "cell_type": "code",
      "source": [
        "# 14. What is the role of try and except in exception handling?\n",
        "\n",
        "# The try block contains code that may raise an exception.\n",
        "# The except block handles the exception.\n"
      ],
      "metadata": {
        "id": "i0dI0QZ1oVE9"
      },
      "execution_count": null,
      "outputs": []
    },
    {
      "cell_type": "code",
      "source": [
        "# 15. How does Python's garbage collection system work?\n",
        "\n",
        "# Python uses reference counting and a cyclic garbage collector.\n",
        "\n",
        "import gc\n",
        "print(gc.isenabled())  # Checks if garbage collection is enabled\n"
      ],
      "metadata": {
        "colab": {
          "base_uri": "https://localhost:8080/"
        },
        "id": "3vwgEjyZoVBE",
        "outputId": "18ede963-dfc1-49de-eddd-5d10b499d301"
      },
      "execution_count": 40,
      "outputs": [
        {
          "output_type": "stream",
          "name": "stdout",
          "text": [
            "True\n"
          ]
        }
      ]
    },
    {
      "cell_type": "code",
      "source": [
        "# 16. What is the purpose of the else block in exception handling?\n",
        "\n",
        "# The else block runs if no exceptions occur in the try block.\n",
        "\n",
        "try:\n",
        "    print(\"No error\")\n",
        "except:\n",
        "    print(\"Error occurred\")\n",
        "else:\n",
        "    print(\"Else block executed\")  # Output: Else block executed\n"
      ],
      "metadata": {
        "colab": {
          "base_uri": "https://localhost:8080/"
        },
        "id": "b5u4txRVoU9B",
        "outputId": "cb8f1c98-f53a-4d87-f15e-66b46f0a8b4b"
      },
      "execution_count": 41,
      "outputs": [
        {
          "output_type": "stream",
          "name": "stdout",
          "text": [
            "No error\n",
            "Else block executed\n"
          ]
        }
      ]
    },
    {
      "cell_type": "code",
      "source": [
        "# 17. What are the common logging levels in Python?\n",
        "\n",
        "# DEBUG, INFO, WARNING, ERROR, CRITICAL\n"
      ],
      "metadata": {
        "id": "idOrZ5yUoU5K"
      },
      "execution_count": null,
      "outputs": []
    },
    {
      "cell_type": "code",
      "source": [
        "# 18. What is the difference between os.fork() and multiprocessing in Python?\n",
        "\n",
        "# os.fork() creates a child process (Unix-based systems).\n",
        "# multiprocessing module creates new processes (cross-platform).\n"
      ],
      "metadata": {
        "id": "voE2bt3SoU1P"
      },
      "execution_count": null,
      "outputs": []
    },
    {
      "cell_type": "code",
      "source": [
        "# 19. What is the importance of closing a file in Python?\n",
        "\n",
        "# It frees system resources and prevents data loss.\n"
      ],
      "metadata": {
        "id": "Y-w6iUSXoUxQ"
      },
      "execution_count": null,
      "outputs": []
    },
    {
      "cell_type": "code",
      "source": [
        "# 20. What is the difference between file.read() and file.readline() in Python?\n",
        "\n",
        "# file.read() reads the whole file, while file.readline() reads one line at a time.\n"
      ],
      "metadata": {
        "id": "wfRnNKr5oUtd"
      },
      "execution_count": null,
      "outputs": []
    },
    {
      "cell_type": "code",
      "source": [
        "# 21. What is the logging module in Python used for?\n",
        "\n",
        "# It is used to track events and errors in a program.\n"
      ],
      "metadata": {
        "id": "e9aJjcMToUpl"
      },
      "execution_count": null,
      "outputs": []
    },
    {
      "cell_type": "code",
      "source": [
        "# 22. What is the os module in Python used for in file handling?\n",
        "\n",
        "# It provides functions to interact with the operating system, such as file handling.\n",
        "\n",
        "import os\n",
        "print(os.getcwd())  # Gets the current working directory\n"
      ],
      "metadata": {
        "colab": {
          "base_uri": "https://localhost:8080/"
        },
        "id": "FkUZ6uTcoUly",
        "outputId": "08efc007-9c78-4d6a-b297-b4c3f1e80a90"
      },
      "execution_count": 42,
      "outputs": [
        {
          "output_type": "stream",
          "name": "stdout",
          "text": [
            "/content\n"
          ]
        }
      ]
    },
    {
      "cell_type": "code",
      "source": [
        "# 23. What are the challenges associated with memory management in Python?\n",
        "\n",
        "# - Reference cycles\n",
        "# - High memory usage\n",
        "# - Garbage collection overhead\n"
      ],
      "metadata": {
        "id": "hXpI8nrfoUiA"
      },
      "execution_count": null,
      "outputs": []
    },
    {
      "cell_type": "code",
      "source": [
        "# 24. How do you raise an exception manually in Python?\n",
        "\n",
        "raise ValueError(\"This is a custom error.\")\n"
      ],
      "metadata": {
        "id": "-aqo57JFoUeH"
      },
      "execution_count": null,
      "outputs": []
    },
    {
      "cell_type": "code",
      "source": [
        "# 25. Why is it important to use multithreading in certain applications?\n",
        "\n",
        "# It improves performance in I/O-bound operations, like web scraping and network requests.\n"
      ],
      "metadata": {
        "id": "qhu09zlVoUaB"
      },
      "execution_count": null,
      "outputs": []
    },
    {
      "cell_type": "markdown",
      "source": [
        "**PRACTICAL QUESTIONS **"
      ],
      "metadata": {
        "id": "c-znkrpKqlhJ"
      }
    },
    {
      "cell_type": "code",
      "source": [
        "# 1. How can you open a file for writing in Python and write a string to it?\n",
        "\n",
        "with open(\"output.txt\", \"w\") as file:\n",
        "    file.write(\"Hello, world!\")\n"
      ],
      "metadata": {
        "id": "nTMh858rqrDu"
      },
      "execution_count": 3,
      "outputs": []
    },
    {
      "cell_type": "code",
      "source": [
        "# 2. Write a Python program to read the contents of a file and print each line.\n",
        "\n",
        "with open(\"input.txt\", \"r\") as file:\n",
        "    for line in file:\n",
        "        print(line.strip())\n"
      ],
      "metadata": {
        "id": "iKvni-2AoUV6"
      },
      "execution_count": null,
      "outputs": []
    },
    {
      "cell_type": "code",
      "source": [
        "# 3. How would you handle a case where the file doesn’t exist while trying to open it for reading?\n",
        "\n",
        "try:\n",
        "    with open(\"non_existent.txt\", \"r\") as file:\n",
        "        print(file.read())\n",
        "except FileNotFoundError:\n",
        "    print(\"File not found!\")\n"
      ],
      "metadata": {
        "colab": {
          "base_uri": "https://localhost:8080/"
        },
        "id": "Ox0ksk0foUSP",
        "outputId": "f3c61c5e-8435-42c2-e669-1fc073165705"
      },
      "execution_count": 5,
      "outputs": [
        {
          "output_type": "stream",
          "name": "stdout",
          "text": [
            "File not found!\n"
          ]
        }
      ]
    },
    {
      "cell_type": "code",
      "source": [
        "# 4. Write a Python script that reads from one file and writes its content to another file.\n",
        "\n",
        "with open(\"source.txt\", \"r\") as src, open(\"destination.txt\", \"w\") as dest:\n",
        "    dest.write(src.read())\n"
      ],
      "metadata": {
        "id": "kIY9-2tYoUOF"
      },
      "execution_count": null,
      "outputs": []
    },
    {
      "cell_type": "code",
      "source": [
        "# 5. How would you catch and handle division by zero error in Python?\n",
        "\n",
        "try:\n",
        "    result = 10 / 0\n",
        "except ZeroDivisionError:\n",
        "    print(\"Cannot divide by zero!\")\n"
      ],
      "metadata": {
        "colab": {
          "base_uri": "https://localhost:8080/"
        },
        "id": "aqtSW7LEoUKh",
        "outputId": "1981af31-e113-4ac6-f18b-e53bc0c3a100"
      },
      "execution_count": 7,
      "outputs": [
        {
          "output_type": "stream",
          "name": "stdout",
          "text": [
            "Cannot divide by zero!\n"
          ]
        }
      ]
    },
    {
      "cell_type": "code",
      "source": [
        "# 6. Write a Python program that logs an error message to a log file when a division by zero exception occurs.\n",
        "\n",
        "import logging\n",
        "logging.basicConfig(filename=\"error.log\", level=logging.ERROR)\n",
        "\n",
        "try:\n",
        "    x = 10 / 0\n",
        "except ZeroDivisionError as e:\n",
        "    logging.error(f\"Error: {e}\")\n"
      ],
      "metadata": {
        "colab": {
          "base_uri": "https://localhost:8080/"
        },
        "id": "Ayza7-7ZoUGq",
        "outputId": "70377a3b-03d1-43bd-b875-2ed774f92b1a"
      },
      "execution_count": 8,
      "outputs": [
        {
          "output_type": "stream",
          "name": "stderr",
          "text": [
            "ERROR:root:Error: division by zero\n"
          ]
        }
      ]
    },
    {
      "cell_type": "code",
      "source": [
        "# 7. How do you log information at different levels (INFO, ERROR, WARNING) in Python using the logging module?\n",
        "\n",
        "import logging\n",
        "logging.basicConfig(level=logging.DEBUG)\n",
        "\n",
        "logging.info(\"This is an INFO message\")\n",
        "logging.warning(\"This is a WARNING message\")\n",
        "logging.error(\"This is an ERROR message\")\n"
      ],
      "metadata": {
        "colab": {
          "base_uri": "https://localhost:8080/"
        },
        "id": "7PtOoIrKoUDH",
        "outputId": "8990c63b-548c-4a6f-ec35-8881675383c2"
      },
      "execution_count": 9,
      "outputs": [
        {
          "output_type": "stream",
          "name": "stderr",
          "text": [
            "WARNING:root:This is a WARNING message\n",
            "ERROR:root:This is an ERROR message\n"
          ]
        }
      ]
    },
    {
      "cell_type": "code",
      "source": [
        "# 8. Write a program to handle a file opening error using exception handling.\n",
        "\n",
        "try:\n",
        "    with open(\"unknown.txt\", \"r\") as file:\n",
        "        print(file.read())\n",
        "except FileNotFoundError:\n",
        "    print(\"Error: File does not exist!\")\n"
      ],
      "metadata": {
        "colab": {
          "base_uri": "https://localhost:8080/"
        },
        "id": "k0xgwK4joT_O",
        "outputId": "b64a8de7-cd21-4b86-d39f-e2d1d1359204"
      },
      "execution_count": 10,
      "outputs": [
        {
          "output_type": "stream",
          "name": "stdout",
          "text": [
            "Error: File does not exist!\n"
          ]
        }
      ]
    },
    {
      "cell_type": "code",
      "source": [
        "# 9. How can you read a file line by line and store its content in a list in Python?\n",
        "\n",
        "with open(\"file.txt\", \"r\") as file:\n",
        "    lines = file.readlines()\n"
      ],
      "metadata": {
        "id": "yUS8emukoT7T"
      },
      "execution_count": null,
      "outputs": []
    },
    {
      "cell_type": "code",
      "source": [
        "# 10. How can you append data to an existing file in Python?\n",
        "\n",
        "with open(\"file.txt\", \"a\") as file:\n",
        "    file.write(\"\\nAppending new data\")\n"
      ],
      "metadata": {
        "id": "1xXRXnp0qtOR"
      },
      "execution_count": 12,
      "outputs": []
    },
    {
      "cell_type": "code",
      "source": [
        "# 11. Write a Python program that uses a try-except block to handle an error when attempting to access a dictionary key that doesn’t exist.\n",
        "\n",
        "my_dict = {\"name\": \"Alice\"}\n",
        "try:\n",
        "    print(my_dict[\"age\"])\n",
        "except KeyError:\n",
        "    print(\"Key does not exist!\")\n"
      ],
      "metadata": {
        "colab": {
          "base_uri": "https://localhost:8080/"
        },
        "id": "iUAaWpxBqtKq",
        "outputId": "8b144b77-324d-4b9c-dc6f-8c90c45cae07"
      },
      "execution_count": 13,
      "outputs": [
        {
          "output_type": "stream",
          "name": "stdout",
          "text": [
            "Key does not exist!\n"
          ]
        }
      ]
    },
    {
      "cell_type": "code",
      "source": [
        "# 12. Write a program that demonstrates using multiple except blocks to handle different types of exceptions.\n",
        "\n",
        "try:\n",
        "    x = int(\"hello\")\n",
        "except ValueError:\n",
        "    print(\"Invalid value!\")\n",
        "except TypeError:\n",
        "    print(\"Type error occurred!\")\n"
      ],
      "metadata": {
        "colab": {
          "base_uri": "https://localhost:8080/"
        },
        "id": "WwTZ8uefqstH",
        "outputId": "51ee3fad-9e7b-499b-c5c1-588b26b7b294"
      },
      "execution_count": 14,
      "outputs": [
        {
          "output_type": "stream",
          "name": "stdout",
          "text": [
            "Invalid value!\n"
          ]
        }
      ]
    },
    {
      "cell_type": "code",
      "source": [
        "# 13. How would you check if a file exists before attempting to read it in Python?\n",
        "\n",
        "import os\n",
        "\n",
        "if os.path.exists(\"file.txt\"):\n",
        "    with open(\"file.txt\", \"r\") as file:\n",
        "        print(file.read())\n",
        "else:\n",
        "    print(\"File does not exist.\")\n"
      ],
      "metadata": {
        "colab": {
          "base_uri": "https://localhost:8080/"
        },
        "id": "wchZIVMnqspq",
        "outputId": "14f828ae-de76-4214-846f-e955dfa403f9"
      },
      "execution_count": 15,
      "outputs": [
        {
          "output_type": "stream",
          "name": "stdout",
          "text": [
            "\n",
            "Appending new data\n"
          ]
        }
      ]
    },
    {
      "cell_type": "code",
      "source": [
        "# 14. Write a program that uses the logging module to log both informational and error messages.\n",
        "\n",
        "import logging\n",
        "logging.basicConfig(level=logging.DEBUG)\n",
        "\n",
        "logging.info(\"This is an info message\")\n",
        "logging.error(\"This is an error message\")\n"
      ],
      "metadata": {
        "colab": {
          "base_uri": "https://localhost:8080/"
        },
        "id": "g8ao4MXAqscb",
        "outputId": "07c8e5e3-560a-4e30-fbde-df600eda3c04"
      },
      "execution_count": 16,
      "outputs": [
        {
          "output_type": "stream",
          "name": "stderr",
          "text": [
            "ERROR:root:This is an error message\n"
          ]
        }
      ]
    },
    {
      "cell_type": "code",
      "source": [
        "# 15. Write a Python program that prints the content of a file and handles the case when the file is empty.\n",
        "\n",
        "with open(\"file.txt\", \"r\") as file:\n",
        "    content = file.read()\n",
        "    if not content:\n",
        "        print(\"File is empty\")\n",
        "    else:\n",
        "        print(content)\n"
      ],
      "metadata": {
        "colab": {
          "base_uri": "https://localhost:8080/"
        },
        "id": "v9N720dwqsZE",
        "outputId": "8f27e939-e3f7-4b9c-d7a5-f7eca8673173"
      },
      "execution_count": 17,
      "outputs": [
        {
          "output_type": "stream",
          "name": "stdout",
          "text": [
            "\n",
            "Appending new data\n"
          ]
        }
      ]
    },
    {
      "cell_type": "code",
      "source": [
        "# 16. Demonstrate how to use memory profiling to check the memory usage of a small program.\n",
        "\n",
        "import memory_profiler\n",
        "\n",
        "def sample_function():\n",
        "    lst = [i for i in range(10000)]\n",
        "    return lst\n",
        "\n",
        "print(memory_profiler.memory_usage(sample_function))\n"
      ],
      "metadata": {
        "id": "R7enZT1AqsWD"
      },
      "execution_count": null,
      "outputs": []
    },
    {
      "cell_type": "code",
      "source": [
        "# 17. Write a Python program to create and write a list of numbers to a file, one number per line.\n",
        "\n",
        "numbers = [1, 2, 3, 4, 5]\n",
        "with open(\"numbers.txt\", \"w\") as file:\n",
        "    for num in numbers:\n",
        "        file.write(f\"{num}\\n\")\n"
      ],
      "metadata": {
        "id": "Js8bqCvfqsMY"
      },
      "execution_count": 21,
      "outputs": []
    },
    {
      "cell_type": "code",
      "source": [
        "# 18. How would you implement a basic logging setup that logs to a file with rotation after 1MB?\n",
        "\n",
        "from logging.handlers import RotatingFileHandler\n",
        "import logging\n",
        "\n",
        "handler = RotatingFileHandler(\"app.log\", maxBytes=1048576, backupCount=3)\n",
        "logging.basicConfig(handlers=[handler], level=logging.INFO)\n",
        "\n",
        "logging.info(\"Log message\")\n"
      ],
      "metadata": {
        "id": "_EkzNk0wqr-s"
      },
      "execution_count": 22,
      "outputs": []
    },
    {
      "cell_type": "code",
      "source": [
        "# 19. Write a program that handles both IndexError and KeyError using a try-except block.\n",
        "\n",
        "try:\n",
        "    lst = [1, 2, 3]\n",
        "    print(lst[5])  # IndexError\n",
        "except IndexError:\n",
        "    print(\"Index out of range!\")\n",
        "except KeyError:\n",
        "    print(\"Key not found!\")\n"
      ],
      "metadata": {
        "colab": {
          "base_uri": "https://localhost:8080/"
        },
        "id": "UiuEdr3xreuZ",
        "outputId": "4218f924-d498-4485-8a71-8230b326e84d"
      },
      "execution_count": 23,
      "outputs": [
        {
          "output_type": "stream",
          "name": "stdout",
          "text": [
            "Index out of range!\n"
          ]
        }
      ]
    },
    {
      "cell_type": "code",
      "source": [
        "# 20. How would you open a file and read its contents using a context manager in Python?\n",
        "\n",
        "with open(\"file.txt\", \"r\") as file:\n",
        "    data = file.read()\n"
      ],
      "metadata": {
        "id": "bazO_da2reZx"
      },
      "execution_count": 24,
      "outputs": []
    },
    {
      "cell_type": "code",
      "source": [
        "# 21. Write a Python program that reads a file and prints the number of occurrences of a specific word.\n",
        "\n",
        "word_to_find = \"Python\"\n",
        "with open(\"file.txt\", \"r\") as file:\n",
        "    content = file.read()\n",
        "    print(f\"Occurrences of '{word_to_find}':\", content.count(word_to_find))\n"
      ],
      "metadata": {
        "colab": {
          "base_uri": "https://localhost:8080/"
        },
        "id": "KtQk0qJqrePV",
        "outputId": "d1f900c3-4a0a-4e4d-abaf-096db086c818"
      },
      "execution_count": 25,
      "outputs": [
        {
          "output_type": "stream",
          "name": "stdout",
          "text": [
            "Occurrences of 'Python': 0\n"
          ]
        }
      ]
    },
    {
      "cell_type": "code",
      "source": [
        "# 22. How can you check if a file is empty before attempting to read its contents?\n",
        "\n",
        "import os\n",
        "\n",
        "if os.path.exists(\"file.txt\") and os.path.getsize(\"file.txt\") > 0:\n",
        "    with open(\"file.txt\", \"r\") as file:\n",
        "        print(file.read())\n",
        "else:\n",
        "    print(\"File is empty or does not exist.\")\n"
      ],
      "metadata": {
        "colab": {
          "base_uri": "https://localhost:8080/"
        },
        "id": "xW-W4fYIreFP",
        "outputId": "50757b65-ea92-46a3-f6f1-e394fa02d91f"
      },
      "execution_count": 2,
      "outputs": [
        {
          "output_type": "stream",
          "name": "stdout",
          "text": [
            "File is empty or does not exist.\n"
          ]
        }
      ]
    },
    {
      "cell_type": "code",
      "source": [
        "# 23. Write a Python program that writes to a log file when an error occurs during file handling.\n",
        "\n",
        "import logging\n",
        "\n",
        "logging.basicConfig(filename=\"error.log\", level=logging.ERROR)\n",
        "\n",
        "try:\n",
        "    with open(\"unknown.txt\", \"r\") as file:\n",
        "        content = file.read()\n",
        "except FileNotFoundError as e:\n",
        "    logging.error(f\"Error: {e}\")\n"
      ],
      "metadata": {
        "colab": {
          "base_uri": "https://localhost:8080/"
        },
        "id": "fJWP5Fj-rdd0",
        "outputId": "b556e758-7298-4098-8eb5-dee4af2d914c"
      },
      "execution_count": 1,
      "outputs": [
        {
          "output_type": "stream",
          "name": "stderr",
          "text": [
            "ERROR:root:Error: [Errno 2] No such file or directory: 'unknown.txt'\n"
          ]
        }
      ]
    }
  ]
}